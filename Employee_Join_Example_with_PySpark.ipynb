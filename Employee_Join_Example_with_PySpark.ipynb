{
  "nbformat": 4,
  "nbformat_minor": 0,
  "metadata": {
    "colab": {
      "provenance": []
    },
    "kernelspec": {
      "name": "python3",
      "display_name": "Python 3"
    },
    "language_info": {
      "name": "python"
    }
  },
  "cells": [
    {
      "cell_type": "code",
      "execution_count": null,
      "metadata": {
        "colab": {
          "base_uri": "https://localhost:8080/"
        },
        "id": "g2e1xRNsiU4l",
        "outputId": "a5ef09f0-9ce1-4a1e-c747-3690325fdd56"
      },
      "outputs": [
        {
          "output_type": "stream",
          "name": "stdout",
          "text": [
            "Requirement already satisfied: pyspark in /usr/local/lib/python3.10/dist-packages (3.5.1)\n",
            "Requirement already satisfied: py4j==0.10.9.7 in /usr/local/lib/python3.10/dist-packages (from pyspark) (0.10.9.7)\n"
          ]
        }
      ],
      "source": [
        "!pip install pyspark"
      ]
    },
    {
      "cell_type": "code",
      "source": [
        "from pyspark import SparkContext, SparkConf"
      ],
      "metadata": {
        "id": "b4dwJM3UoVYI"
      },
      "execution_count": null,
      "outputs": []
    },
    {
      "cell_type": "code",
      "source": [
        "conf = SparkConf().setAppName(\"Employee Join Example\")\n",
        "sc = SparkContext(conf=conf)"
      ],
      "metadata": {
        "id": "RRf9HpU0oW9w"
      },
      "execution_count": null,
      "outputs": []
    },
    {
      "cell_type": "code",
      "source": [
        "rdd1 = sc.textFile(\"emp1.txt\")\n",
        "rdd2 = sc.textFile(\"emp2.txt\")"
      ],
      "metadata": {
        "id": "Qe25hsRGoYml"
      },
      "execution_count": null,
      "outputs": []
    },
    {
      "cell_type": "code",
      "source": [
        "rdd1_kv = rdd1.map(lambda line: tuple(line.split(\",\", 1)))\n",
        "rdd2_kv = rdd2.map(lambda line: tuple(line.split(\",\", 1)))"
      ],
      "metadata": {
        "id": "hmD3TXAhoZ97"
      },
      "execution_count": null,
      "outputs": []
    },
    {
      "cell_type": "code",
      "source": [
        "header_rdd1 = rdd1_kv.first()\n",
        "header_rdd2 = rdd2_kv.first()\n",
        "rdd1_kv = rdd1_kv.filter(lambda x: x != header_rdd1)\n",
        "rdd2_kv = rdd2_kv.filter(lambda x: x != header_rdd2)"
      ],
      "metadata": {
        "id": "3mOXyRayobk2"
      },
      "execution_count": null,
      "outputs": []
    },
    {
      "cell_type": "code",
      "source": [
        "inner_join_rdd = rdd1_kv.join(rdd2_kv)"
      ],
      "metadata": {
        "id": "qmymXvH6odOf"
      },
      "execution_count": null,
      "outputs": []
    },
    {
      "cell_type": "code",
      "source": [
        "print(\"Inner Join Result:\")\n",
        "print(inner_join_rdd.collect())"
      ],
      "metadata": {
        "colab": {
          "base_uri": "https://localhost:8080/"
        },
        "id": "wnmggUHjoe4y",
        "outputId": "6e96e501-f17b-474c-abc2-81c51180215b"
      },
      "execution_count": null,
      "outputs": [
        {
          "output_type": "stream",
          "name": "stdout",
          "text": [
            "Inner Join Result:\n",
            "[('4', ('Charlie,Human Resources', '55000,1')), ('10', ('Emily,Software Development', '70000,5')), ('12', ('Benjamin,Digital Marketing', '45000,1')), ('16', ('Lucas,Finance', '80000,3')), ('20', ('Scarlett,Software Development', '70000,3')), ('24', ('Chloe,Data Science', '70000,2')), ('26', ('Samuel,Finance', '75000,4')), ('40', ('Sofia,Human Resources', '70000,2')), ('44', ('Luke,Software Development', '70000,4')), ('50', ('Emma,Software Development', '60000,2')), ('3', ('Bob,Data Science', '70000,3')), ('6', ('Michael,Software Development', '80000,6')), ('7', ('Olivia,Data Science', '90000,3')), ('15', ('Isabella,Human Resources', '70000,2')), ('18', ('Grace,Data Science', '65000,4')), ('23', ('David,Software Development', '65000,3')), ('25', ('Sebastian,Human Resources', '60000,3')), ('30', ('Harper,Software Development', '70000,4')), ('31', ('Luna,Data Science', '55000,1')), ('32', ('William,Human Resources', '60000,3')), ('36', ('Mia,Human Resources', '60000,2')), ('42', ('Ella,Data Science', '80000,3')), ('43', ('Daniel,Finance', '65000,2')), ('47', ('Julia,Software Development', '80000,4')), ('49', ('John,Data Science', '70000,3')), ('1', ('John,Digital Marketing', '50000,2')), ('8', ('Sophia,Finance', '75000,2')), ('9', ('Liam,Data Science', '55000,4')), ('14', ('Ava,Data Science', '75000,4')), ('17', ('Avery,Software Development', '55000,1')), ('19', ('Ethan,Human Resources', '60000,2')), ('21', ('Henry,Digital Marketing', '55000,1')), ('22', ('Amelia,Finance', '80000,4')), ('29', ('Abigail,Digital Marketing', '50000,2')), ('33', ('Addison,Finance', '65000,2')), ('34', ('Charlotte,Software Development', '75000,4')), ('45', ('Victoria,Data Science', '60000,3')), ('48', ('Jonathan,Finance', '85000,5')), ('2', ('Alice,Software Development', '65000,5')), ('5', ('Eve,Finance', '60000,4')), ('11', ('James,Finance', '60000,3')), ('13', ('Emma,Software Development', '85000,7')), ('27', ('Evelyn,Software Development', '80000,5')), ('28', ('Jackson,Data Science', '85000,6')), ('35', ('Matthew,Data Science', '70000,3')), ('37', ('Aubrey,Software Development', '55000,1')), ('38', ('Elizabeth,Finance', '80000,4')), ('39', ('Andrew,Data Science', '75000,3')), ('41', ('Grace,Software Development', '55000,1')), ('46', ('Jack,Human Resources', '75000,2'))]\n"
          ]
        }
      ]
    },
    {
      "cell_type": "code",
      "source": [
        "left_outer_join_rdd = rdd1_kv.leftOuterJoin(rdd2_kv).mapValues(lambda x: (x[0], x[1] if x[1] else \"None\"))"
      ],
      "metadata": {
        "id": "L_UEXe98ogln"
      },
      "execution_count": null,
      "outputs": []
    },
    {
      "cell_type": "code",
      "source": [
        "print(\"\\nLeft Outer Join Result:\")\n",
        "print(left_outer_join_rdd.collect())"
      ],
      "metadata": {
        "colab": {
          "base_uri": "https://localhost:8080/"
        },
        "id": "uqnOBpL4ojqT",
        "outputId": "50ac0224-0641-42de-e817-ed3dde3bff16"
      },
      "execution_count": null,
      "outputs": [
        {
          "output_type": "stream",
          "name": "stdout",
          "text": [
            "\n",
            "Left Outer Join Result:\n",
            "[('4', ('Charlie,Human Resources', '55000,1')), ('10', ('Emily,Software Development', '70000,5')), ('12', ('Benjamin,Digital Marketing', '45000,1')), ('16', ('Lucas,Finance', '80000,3')), ('20', ('Scarlett,Software Development', '70000,3')), ('24', ('Chloe,Data Science', '70000,2')), ('26', ('Samuel,Finance', '75000,4')), ('40', ('Sofia,Human Resources', '70000,2')), ('44', ('Luke,Software Development', '70000,4')), ('50', ('Emma,Software Development', '60000,2')), ('3', ('Bob,Data Science', '70000,3')), ('6', ('Michael,Software Development', '80000,6')), ('7', ('Olivia,Data Science', '90000,3')), ('15', ('Isabella,Human Resources', '70000,2')), ('18', ('Grace,Data Science', '65000,4')), ('23', ('David,Software Development', '65000,3')), ('25', ('Sebastian,Human Resources', '60000,3')), ('30', ('Harper,Software Development', '70000,4')), ('31', ('Luna,Data Science', '55000,1')), ('32', ('William,Human Resources', '60000,3')), ('36', ('Mia,Human Resources', '60000,2')), ('42', ('Ella,Data Science', '80000,3')), ('43', ('Daniel,Finance', '65000,2')), ('47', ('Julia,Software Development', '80000,4')), ('49', ('John,Data Science', '70000,3')), ('1', ('John,Digital Marketing', '50000,2')), ('8', ('Sophia,Finance', '75000,2')), ('9', ('Liam,Data Science', '55000,4')), ('14', ('Ava,Data Science', '75000,4')), ('17', ('Avery,Software Development', '55000,1')), ('19', ('Ethan,Human Resources', '60000,2')), ('21', ('Henry,Digital Marketing', '55000,1')), ('22', ('Amelia,Finance', '80000,4')), ('29', ('Abigail,Digital Marketing', '50000,2')), ('33', ('Addison,Finance', '65000,2')), ('34', ('Charlotte,Software Development', '75000,4')), ('45', ('Victoria,Data Science', '60000,3')), ('48', ('Jonathan,Finance', '85000,5')), ('2', ('Alice,Software Development', '65000,5')), ('5', ('Eve,Finance', '60000,4')), ('11', ('James,Finance', '60000,3')), ('13', ('Emma,Software Development', '85000,7')), ('27', ('Evelyn,Software Development', '80000,5')), ('28', ('Jackson,Data Science', '85000,6')), ('35', ('Matthew,Data Science', '70000,3')), ('37', ('Aubrey,Software Development', '55000,1')), ('38', ('Elizabeth,Finance', '80000,4')), ('39', ('Andrew,Data Science', '75000,3')), ('41', ('Grace,Software Development', '55000,1')), ('46', ('Jack,Human Resources', '75000,2'))]\n"
          ]
        }
      ]
    },
    {
      "cell_type": "code",
      "source": [
        "rdd2_kv_int = rdd2_kv.mapValues(lambda x: tuple(map(int, x.split(\",\"))))"
      ],
      "metadata": {
        "id": "AOEoyV1colaT"
      },
      "execution_count": null,
      "outputs": []
    },
    {
      "cell_type": "code",
      "source": [
        "total_salary_rdd = rdd1_kv.join(rdd2_kv_int).mapValues(lambda x: x[0] + str(x[1][0] * x[1][1]))"
      ],
      "metadata": {
        "id": "tEvkrlA3ooHx"
      },
      "execution_count": null,
      "outputs": []
    },
    {
      "cell_type": "code",
      "source": [
        "print(\"\\nTotal Salary of Employees:\")\n",
        "print(total_salary_rdd.collect())"
      ],
      "metadata": {
        "colab": {
          "base_uri": "https://localhost:8080/"
        },
        "id": "6n1SeFPZorQh",
        "outputId": "68f55b8d-5c86-464f-a4dd-a245b7c73daf"
      },
      "execution_count": null,
      "outputs": [
        {
          "output_type": "stream",
          "name": "stdout",
          "text": [
            "\n",
            "Total Salary of Employees:\n",
            "[('4', 'Charlie,Human Resources55000'), ('10', 'Emily,Software Development350000'), ('12', 'Benjamin,Digital Marketing45000'), ('16', 'Lucas,Finance240000'), ('20', 'Scarlett,Software Development210000'), ('24', 'Chloe,Data Science140000'), ('26', 'Samuel,Finance300000'), ('40', 'Sofia,Human Resources140000'), ('44', 'Luke,Software Development280000'), ('50', 'Emma,Software Development120000'), ('3', 'Bob,Data Science210000'), ('6', 'Michael,Software Development480000'), ('7', 'Olivia,Data Science270000'), ('15', 'Isabella,Human Resources140000'), ('18', 'Grace,Data Science260000'), ('23', 'David,Software Development195000'), ('25', 'Sebastian,Human Resources180000'), ('30', 'Harper,Software Development280000'), ('31', 'Luna,Data Science55000'), ('32', 'William,Human Resources180000'), ('36', 'Mia,Human Resources120000'), ('42', 'Ella,Data Science240000'), ('43', 'Daniel,Finance130000'), ('47', 'Julia,Software Development320000'), ('49', 'John,Data Science210000'), ('1', 'John,Digital Marketing100000'), ('8', 'Sophia,Finance150000'), ('9', 'Liam,Data Science220000'), ('14', 'Ava,Data Science300000'), ('17', 'Avery,Software Development55000'), ('19', 'Ethan,Human Resources120000'), ('21', 'Henry,Digital Marketing55000'), ('22', 'Amelia,Finance320000'), ('29', 'Abigail,Digital Marketing100000'), ('33', 'Addison,Finance130000'), ('34', 'Charlotte,Software Development300000'), ('45', 'Victoria,Data Science180000'), ('48', 'Jonathan,Finance425000'), ('2', 'Alice,Software Development325000'), ('5', 'Eve,Finance240000'), ('11', 'James,Finance180000'), ('13', 'Emma,Software Development595000'), ('27', 'Evelyn,Software Development400000'), ('28', 'Jackson,Data Science510000'), ('35', 'Matthew,Data Science210000'), ('37', 'Aubrey,Software Development55000'), ('38', 'Elizabeth,Finance320000'), ('39', 'Andrew,Data Science225000'), ('41', 'Grace,Software Development55000'), ('46', 'Jack,Human Resources150000')]\n"
          ]
        }
      ]
    },
    {
      "cell_type": "code",
      "source": [
        "rdd1_pair = sc.parallelize([(1, \"John\"), (2, \"Alice\"), (3, \"Bob\")])\n",
        "rdd2_pair = sc.parallelize([(1, 30), (2, 35), (3, 40)])"
      ],
      "metadata": {
        "id": "XIPDYLeIot9E"
      },
      "execution_count": null,
      "outputs": []
    },
    {
      "cell_type": "code",
      "source": [
        "broadcast_rdd2 = sc.broadcast(dict(rdd2_pair.collect()))"
      ],
      "metadata": {
        "id": "qnwkgq8MowZZ"
      },
      "execution_count": null,
      "outputs": []
    },
    {
      "cell_type": "code",
      "source": [
        "result = rdd1_pair.map(lambda x: (x[0], (x[1], broadcast_rdd2.value.get(x[0]))))"
      ],
      "metadata": {
        "id": "SnPuVbkaoyaL"
      },
      "execution_count": null,
      "outputs": []
    },
    {
      "cell_type": "code",
      "source": [
        "print(\"\\nBroadcast Join Result:\")\n",
        "print(result.collect())"
      ],
      "metadata": {
        "colab": {
          "base_uri": "https://localhost:8080/"
        },
        "id": "0eEysbmrpF7Z",
        "outputId": "5249dc69-86eb-42cd-fa8e-e2e0c1bd1807"
      },
      "execution_count": null,
      "outputs": [
        {
          "output_type": "stream",
          "name": "stdout",
          "text": [
            "\n",
            "Broadcast Join Result:\n",
            "[(1, ('John', 30)), (2, ('Alice', 35)), (3, ('Bob', 40))]\n"
          ]
        }
      ]
    },
    {
      "cell_type": "code",
      "source": [
        "rdd = sc.parallelize(range(1, 11))"
      ],
      "metadata": {
        "id": "iPSipBsgpIAP"
      },
      "execution_count": null,
      "outputs": []
    },
    {
      "cell_type": "code",
      "source": [
        "accumulator = sc.accumulator(0)\n",
        "def update_acc(x):\n",
        "    global accumulator\n",
        "    accumulator += x\n",
        "rdd.foreach(update_acc)\n",
        "print(\"\\nSum of Values using Accumulator:\", accumulator.value)\n",
        "sc.stop()\n"
      ],
      "metadata": {
        "colab": {
          "base_uri": "https://localhost:8080/"
        },
        "id": "XFuzzn6fjB15",
        "outputId": "6ad60530-64ff-47f1-dd1a-a7bf15bab102"
      },
      "execution_count": null,
      "outputs": [
        {
          "output_type": "stream",
          "name": "stdout",
          "text": [
            "\n",
            "Sum of Values using Accumulator: 55\n"
          ]
        }
      ]
    }
  ]
}